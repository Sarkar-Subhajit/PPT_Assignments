{
 "cells": [
  {
   "cell_type": "markdown",
   "id": "8c59e520",
   "metadata": {},
   "source": [
    "## 1. Given an integer array nums, move all 0's to the end of it while maintaining the relative order of the non-zero elements. Note that you must do this in-place without making a copy of the array."
   ]
  },
  {
   "cell_type": "code",
   "execution_count": 5,
   "id": "3167bc15",
   "metadata": {},
   "outputs": [],
   "source": [
    "def pushzero(x):\n",
    "    n = len(x)\n",
    "    j = 0\n",
    "    for i in range(n):\n",
    "        if x[i] != 0:\n",
    "            x[j], x[i] = x[i], x[j]  \n",
    "            j += 1\n",
    "    print(x) "
   ]
  },
  {
   "cell_type": "code",
   "execution_count": 7,
   "id": "e4f57061",
   "metadata": {},
   "outputs": [
    {
     "name": "stdout",
     "output_type": "stream",
     "text": [
      "[1, 3, 12, 0, 0]\n"
     ]
    }
   ],
   "source": [
    "# Example\n",
    "x = [0,1,0,3,12]\n",
    "pushzero(x)"
   ]
  },
  {
   "cell_type": "markdown",
   "id": "5614c116",
   "metadata": {},
   "source": [
    "### Analysis :\n",
    "**Time Complexity :** O(n)\n",
    "\n",
    "**Space Complexity :** O(1)"
   ]
  },
  {
   "cell_type": "markdown",
   "id": "0417f837",
   "metadata": {},
   "source": [
    "### 2. First Unique Character in a String. Given a string s, find the first non-repeating character in it and return its index. If it does not exist, return -1."
   ]
  },
  {
   "cell_type": "code",
   "execution_count": 8,
   "id": "17cf68ea",
   "metadata": {},
   "outputs": [],
   "source": [
    "def firstchar(s):\n",
    "    for i in range(len(s)):\n",
    "        if s[i] not in s[:i]+s[i+1:]:\n",
    "            return i\n",
    "    return -1"
   ]
  },
  {
   "cell_type": "code",
   "execution_count": 9,
   "id": "2d6e384e",
   "metadata": {},
   "outputs": [
    {
     "data": {
      "text/plain": [
       "0"
      ]
     },
     "execution_count": 9,
     "metadata": {},
     "output_type": "execute_result"
    }
   ],
   "source": [
    "# Example\n",
    "s = \"leetcode\"\n",
    "firstchar(s)"
   ]
  },
  {
   "cell_type": "markdown",
   "id": "e224f71d",
   "metadata": {},
   "source": [
    "### Analysis :\n",
    "**Time Complexity :** O(n)\n",
    "\n",
    "**Space Complexity :** O(1)"
   ]
  },
  {
   "cell_type": "code",
   "execution_count": null,
   "id": "36237dc2",
   "metadata": {},
   "outputs": [],
   "source": []
  }
 ],
 "metadata": {
  "kernelspec": {
   "display_name": "Python 3",
   "language": "python",
   "name": "python3"
  },
  "language_info": {
   "codemirror_mode": {
    "name": "ipython",
    "version": 3
   },
   "file_extension": ".py",
   "mimetype": "text/x-python",
   "name": "python",
   "nbconvert_exporter": "python",
   "pygments_lexer": "ipython3",
   "version": "3.8.8"
  }
 },
 "nbformat": 4,
 "nbformat_minor": 5
}
