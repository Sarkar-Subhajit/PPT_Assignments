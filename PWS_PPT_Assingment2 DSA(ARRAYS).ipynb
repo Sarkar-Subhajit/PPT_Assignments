{
 "cells": [
  {
   "cell_type": "markdown",
   "id": "bc3a510a",
   "metadata": {},
   "source": [
    "# PPT Assingment 2 DSA (ARRAYS)\n",
    "\n",
    "### Q1 Given an integer array nums of 2n integers, group these integers into n pairs (a1, b1), (a2, b2),..., (an, bn) such that the sum of min(ai, bi) for all i is maximized. Return the maximized sum.\n",
    "\n",
    "\n",
    "**Example:**\n",
    "Input: nums = [1,4,3,2]\n",
    "\n",
    "Output: 4\n",
    "\n",
    "**Explanation:** \n",
    "All possible pairings (ignoring the ordering of elements) are:\n",
    "\n",
    "1. (1, 4), (2, 3) -> min(1, 4) + min(2, 3) = 1 + 2 = 3\n",
    "2. (1, 3), (2, 4) -> min(1, 3) + min(2, 4) = 1 + 2 = 3\n",
    "3. (1, 2), (3, 4) -> min(1, 2) + min(3, 4) = 1 + 3 = 4\n",
    "\n",
    "So the maximum possible sum is 4\n",
    "\n",
    "**Answer -** is given below."
   ]
  },
  {
   "cell_type": "code",
   "execution_count": 5,
   "id": "5e133d05",
   "metadata": {},
   "outputs": [],
   "source": [
    "def pairsum(nums):\n",
    "        nums.sort()\n",
    "        result = 0\n",
    "        n = len(nums)\n",
    "        for i in range(0, n - 1, 2):\n",
    "            result += nums[i]\n",
    "        return result"
   ]
  },
  {
   "cell_type": "code",
   "execution_count": 6,
   "id": "c94fff92",
   "metadata": {},
   "outputs": [
    {
     "data": {
      "text/plain": [
       "4"
      ]
     },
     "execution_count": 6,
     "metadata": {},
     "output_type": "execute_result"
    }
   ],
   "source": [
    "# Example\n",
    "nums = [1,4,3,2]\n",
    "pairsum(nums)"
   ]
  },
  {
   "cell_type": "markdown",
   "id": "e60da2be",
   "metadata": {},
   "source": [
    "### Q2 Alice has n candies, where the ith candy is of type candyType[i]. Alice noticed that she started to gain weight, so she visited a doctor. The doctor advised Alice to only eat n / 2 of the candies she has (n is always even). Alice likes her candies very much, and she wants to eat the maximum number of different types of candies while still following the doctor's advice. Given the integer array candyType of length n, return the maximum number of different types of candies she can eat if she only eats n / 2 of them.\n",
    "\n",
    "**Example:**\n",
    "\n",
    "Input: candyType = [1,1,2,2,3,3]\n",
    "\n",
    "Output: 3\n",
    "\n",
    "**Explanation:** \n",
    "\n",
    "Alice can only eat 6 / 2 = 3 candies. Since there are only 3 types, she can eat one of each type.\n",
    "\n",
    "**Answer -** is given below."
   ]
  },
  {
   "cell_type": "code",
   "execution_count": 8,
   "id": "868b410c",
   "metadata": {},
   "outputs": [],
   "source": [
    "def candies(ctypes):\n",
    "        total = len(ctypes)\n",
    "        max = total // 2\n",
    "        ctypes = set(ctypes)\n",
    "        diff = len(ctypes)\n",
    "        if diff > max:\n",
    "            return max\n",
    "        else:\n",
    "            return diff"
   ]
  },
  {
   "cell_type": "code",
   "execution_count": 9,
   "id": "f4836b34",
   "metadata": {},
   "outputs": [
    {
     "data": {
      "text/plain": [
       "4"
      ]
     },
     "execution_count": 9,
     "metadata": {},
     "output_type": "execute_result"
    }
   ],
   "source": [
    "# Example\n",
    "ctypes = [1,1,2,2,3,3]\n",
    "pairsum(nums)"
   ]
  },
  {
   "cell_type": "markdown",
   "id": "a984ac34",
   "metadata": {},
   "source": [
    "### Q3 We define a harmonious array as an array where the difference between its maximum value and its minimum value is exactly 1. Given an integer array nums, return the length of its longest harmonious subsequence among all its possible subsequences. A subsequence of an array is a sequence that can be derived from the array by deleting some or no elements without changing the order of the remaining elements.\n",
    "\n",
    "**Example:**\n",
    "\n",
    "Input: nums = [1,3,2,2,5,2,3,7]\n",
    "\n",
    "Output: 5\n",
    "\n",
    "**Explanation:** \n",
    "\n",
    "The longest harmonious subsequence is [3,2,2,2,3].\n",
    "\n",
    "**Answer -** is given below."
   ]
  },
  {
   "cell_type": "code",
   "execution_count": null,
   "id": "f428ab09",
   "metadata": {},
   "outputs": [],
   "source": []
  },
  {
   "cell_type": "code",
   "execution_count": null,
   "id": "513c8ff8",
   "metadata": {},
   "outputs": [],
   "source": []
  },
  {
   "cell_type": "markdown",
   "id": "62d9cb84",
   "metadata": {},
   "source": [
    "### Q4 You have a long flowerbed in which some of the plots are planted, and some are not. However, flowers cannot be planted in adjacent plots. Given an integer array flowerbed containing 0's and 1's, where 0 means empty and 1 means not empty, and an integer n, return true if n new flowers can be planted in the flowerbed without violating the no-adjacent-flowers rule and false otherwise.\n",
    "\n",
    "**Example:**\n",
    "\n",
    "Input: flowerbed = [1,0,0,0,1], n = 1\n",
    "\n",
    "Output: true\n",
    "\n",
    "**Answer -** is given below."
   ]
  },
  {
   "cell_type": "code",
   "execution_count": null,
   "id": "06f46ac7",
   "metadata": {},
   "outputs": [],
   "source": []
  },
  {
   "cell_type": "code",
   "execution_count": null,
   "id": "219eb71c",
   "metadata": {},
   "outputs": [],
   "source": []
  },
  {
   "cell_type": "markdown",
   "id": "50787b91",
   "metadata": {},
   "source": [
    "### Q5 Given an integer array nums, find three numbers whose product is maximum and return the maximum product.\n",
    "\n",
    "**Example:**\n",
    "\n",
    "Input: nums = [1,2,3]\n",
    "\n",
    "Output: 6\n",
    "\n",
    "**Answer -** is given below."
   ]
  },
  {
   "cell_type": "code",
   "execution_count": 15,
   "id": "048a828a",
   "metadata": {},
   "outputs": [],
   "source": [
    "def maxproduct(nums):\n",
    "        n = len(nums)\n",
    "        nums.sort()\n",
    "        return max(nums[0] * nums[1] * nums[n - 1], nums[n-3] * nums[n - 2] * nums[n-1])"
   ]
  },
  {
   "cell_type": "code",
   "execution_count": 16,
   "id": "29a947f6",
   "metadata": {},
   "outputs": [
    {
     "data": {
      "text/plain": [
       "6"
      ]
     },
     "execution_count": 16,
     "metadata": {},
     "output_type": "execute_result"
    }
   ],
   "source": [
    "#Example\n",
    "nums = [1,2,3]\n",
    "maxproduct(nums)"
   ]
  },
  {
   "cell_type": "markdown",
   "id": "2abfe4e2",
   "metadata": {},
   "source": [
    "### Q6 Given an array of integers nums which is sorted in ascending order, and an integer target, write a function to search target in nums. If target exists, then return its index. Otherwise, return -1. You must write an algorithm with O(log n) runtime complexity.\n",
    "\n",
    "**Example:**\n",
    "\n",
    "Input: nums = [-1,0,3,5,9,12], target = 9\n",
    "\n",
    "Output: 4\n",
    "\n",
    "**Explanation:** \n",
    "\n",
    "9 exists in nums and its index is 4\n",
    "\n",
    "**Answer -** is given below."
   ]
  },
  {
   "cell_type": "code",
   "execution_count": 19,
   "id": "289c1097",
   "metadata": {},
   "outputs": [],
   "source": [
    "def search(nums, target):\n",
    "        output=0 \n",
    "        for x in range(len(nums)):\n",
    "            if nums[x]==target:\n",
    "                return x;\n",
    "            else:\n",
    "                output+=1 #Count number of items in list that does not equal to target\n",
    "        if output==len(nums): #if all of the items in the list is not equal to target\n",
    "            return -1"
   ]
  },
  {
   "cell_type": "code",
   "execution_count": 21,
   "id": "cc74201c",
   "metadata": {},
   "outputs": [
    {
     "data": {
      "text/plain": [
       "4"
      ]
     },
     "execution_count": 21,
     "metadata": {},
     "output_type": "execute_result"
    }
   ],
   "source": [
    "#Example\n",
    "nums = [-1,0,3,5,9,12]\n",
    "target = 9\n",
    "search(nums, target)"
   ]
  },
  {
   "cell_type": "markdown",
   "id": "764722ef",
   "metadata": {},
   "source": [
    "### Q7 An array is monotonic if it is either monotone increasing or monotone decreasing. An array nums is monotone increasing if for all i <= j, nums[i] <= nums[j]. An array nums is monotone decreasing if for all i <= j, nums[i] >= nums[j]. Given an integer array nums, return true if the given array is monotonic, or false otherwise.\n",
    "\n",
    "**Example:**\n",
    "\n",
    "Input: nums = [1,2,2,3]\n",
    "\n",
    "Output: true\n",
    "\n",
    "**Answer -** is given below."
   ]
  },
  {
   "cell_type": "code",
   "execution_count": 22,
   "id": "965ed5f4",
   "metadata": {},
   "outputs": [],
   "source": [
    "def isMonotonic(nums):\n",
    "        \"\"\"\n",
    "        :type nums: List[int]\n",
    "        :rtype: bool\n",
    "        \"\"\"\n",
    "        inc = True\n",
    "        dec = True\n",
    "\n",
    "        for i in range(1, len(nums)):\n",
    "            if (nums[i-1] > nums[i]):\n",
    "                inc = False\n",
    "            if (nums[i-1] < nums[i]):\n",
    "                dec = False\n",
    "        return inc | dec"
   ]
  },
  {
   "cell_type": "code",
   "execution_count": 23,
   "id": "ba66aa65",
   "metadata": {},
   "outputs": [
    {
     "data": {
      "text/plain": [
       "True"
      ]
     },
     "execution_count": 23,
     "metadata": {},
     "output_type": "execute_result"
    }
   ],
   "source": [
    "#Example\n",
    "nums = [1,2,2,3]\n",
    "isMonotonic(nums)"
   ]
  },
  {
   "cell_type": "markdown",
   "id": "a20ee4ce",
   "metadata": {},
   "source": [
    "### Q8 You are given an integer array nums and an integer k. In one operation, you can choose any index i where 0 <= i < nums.length and change nums[i] to nums[i] + x where x is an integer from the range [-k, k]. You can apply this operation at most once for each index i. The score of nums is the difference between the maximum and minimum elements in nums. Return the minimum score of nums after applying the mentioned operation at most once for each index in it.\n",
    "\n",
    "**Example:**\n",
    "\n",
    "Input: nums = [1], k = 0\n",
    "\n",
    "Output: 0\n",
    "\n",
    "**Explanation:** \n",
    "\n",
    "The score is max(nums) - min(nums) = 1 - 1 = 0.\n",
    "\n",
    "**Answer -** is given below."
   ]
  },
  {
   "cell_type": "code",
   "execution_count": 26,
   "id": "34844293",
   "metadata": {},
   "outputs": [],
   "source": [
    "def smallrange(nums, k):\n",
    "        maxnum = max(nums)\n",
    "        minnum = min(nums)\n",
    "        return max(0, maxnum-k-minnum-k)"
   ]
  },
  {
   "cell_type": "code",
   "execution_count": 27,
   "id": "d11ed086",
   "metadata": {},
   "outputs": [
    {
     "data": {
      "text/plain": [
       "0"
      ]
     },
     "execution_count": 27,
     "metadata": {},
     "output_type": "execute_result"
    }
   ],
   "source": [
    "#Example\n",
    "nums = [1]\n",
    "k = 0\n",
    "smallrange(nums, k)"
   ]
  },
  {
   "cell_type": "code",
   "execution_count": null,
   "id": "7f429694",
   "metadata": {},
   "outputs": [],
   "source": []
  }
 ],
 "metadata": {
  "kernelspec": {
   "display_name": "Python 3",
   "language": "python",
   "name": "python3"
  },
  "language_info": {
   "codemirror_mode": {
    "name": "ipython",
    "version": 3
   },
   "file_extension": ".py",
   "mimetype": "text/x-python",
   "name": "python",
   "nbconvert_exporter": "python",
   "pygments_lexer": "ipython3",
   "version": "3.8.8"
  }
 },
 "nbformat": 4,
 "nbformat_minor": 5
}
